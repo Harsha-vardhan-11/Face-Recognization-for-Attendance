{
 "cells": [
  {
   "cell_type": "code",
   "execution_count": 1,
   "metadata": {},
   "outputs": [],
   "source": [
    "import cv2\n",
    "import numpy as np\n",
    "import face_recognition\n",
    "\n",
    "# Load the reference image and find the face location\n",
    "imgelon = face_recognition.load_image_file('elon.jpg')\n",
    "imgelon_rgb = cv2.cvtColor(imgelon, cv2.COLOR_BGR2RGB)\n",
    "face = face_recognition.face_locations(imgelon_rgb)[0]\n",
    "\n",
    "# Create a copy with the rectangle drawn\n",
    "copy = imgelon.copy()\n",
    "cv2.rectangle(copy, (face[3], face[0]), (face[1], face[2]), (255, 0, 255), 2)\n",
    "cv2.imshow('copy', copy)\n",
    "cv2.imshow('elon', imgelon)\n",
    "cv2.waitKey(0)\n",
    "\n",
    "# Encode the reference image\n",
    "train_elon_encodings = face_recognition.face_encodings(imgelon)[0]\n",
    "\n",
    "# Load the test image and encode it\n",
    "test = face_recognition.load_image_file('elon_2.jpg')\n",
    "test = cv2.cvtColor(test, cv2.COLOR_BGR2RGB)\n",
    "test_encode = face_recognition.face_encodings(test)[0]\n",
    "\n",
    "# Compare the face encodings\n",
    "result = face_recognition.compare_faces([train_elon_encodings], test_encode)\n",
    "print(result)\n",
    "\n"
   ]
  }
 ],
 "metadata": {
  "kernelspec": {
   "display_name": "Python 3",
   "language": "python",
   "name": "python3"
  },
  "language_info": {
   "codemirror_mode": {
    "name": "ipython",
    "version": 3
   },
   "file_extension": ".py",
   "mimetype": "text/x-python",
   "name": "python",
   "nbconvert_exporter": "python",
   "pygments_lexer": "ipython3",
   "version": "3.11.6"
  }
 },
 "nbformat": 4,
 "nbformat_minor": 2
}
